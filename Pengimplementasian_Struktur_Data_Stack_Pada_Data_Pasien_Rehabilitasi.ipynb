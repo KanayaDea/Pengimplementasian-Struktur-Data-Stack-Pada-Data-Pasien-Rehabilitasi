{
  "cells": [
    {
      "cell_type": "code",
      "execution_count": null,
      "metadata": {
        "id": "zDyZFnFx43RY"
      },
      "outputs": [],
      "source": [
        "import pandas as pd"
      ]
    },
    {
      "cell_type": "code",
      "execution_count": null,
      "metadata": {
        "colab": {
          "base_uri": "https://localhost:8080/",
          "height": 424
        },
        "id": "uZeZjM5-RONW",
        "outputId": "64db6f30-e84b-4f32-f60e-d68fef25902d"
      },
      "outputs": [
        {
          "output_type": "execute_result",
          "data": {
            "text/plain": [
              "     Age Sex      BP Cholesterol  Na_to_K   Drug\n",
              "0     23   F    HIGH        HIGH   25.355  DrugY\n",
              "1     47   M     LOW        HIGH   13.093  drugC\n",
              "2     47   M     LOW        HIGH   10.114  drugC\n",
              "3     28   F  NORMAL        HIGH    7.798  drugX\n",
              "4     61   F     LOW        HIGH   18.043  DrugY\n",
              "..   ...  ..     ...         ...      ...    ...\n",
              "195   56   F     LOW        HIGH   11.567  drugC\n",
              "196   16   M     LOW        HIGH   12.006  drugC\n",
              "197   52   M  NORMAL        HIGH    9.894  drugX\n",
              "198   23   M  NORMAL      NORMAL   14.020  drugX\n",
              "199   40   F     LOW      NORMAL   11.349  drugX\n",
              "\n",
              "[200 rows x 6 columns]"
            ],
            "text/html": [
              "\n",
              "  <div id=\"df-36048d06-e5d8-4c81-9d0c-0851fee8d22b\">\n",
              "    <div class=\"colab-df-container\">\n",
              "      <div>\n",
              "<style scoped>\n",
              "    .dataframe tbody tr th:only-of-type {\n",
              "        vertical-align: middle;\n",
              "    }\n",
              "\n",
              "    .dataframe tbody tr th {\n",
              "        vertical-align: top;\n",
              "    }\n",
              "\n",
              "    .dataframe thead th {\n",
              "        text-align: right;\n",
              "    }\n",
              "</style>\n",
              "<table border=\"1\" class=\"dataframe\">\n",
              "  <thead>\n",
              "    <tr style=\"text-align: right;\">\n",
              "      <th></th>\n",
              "      <th>Age</th>\n",
              "      <th>Sex</th>\n",
              "      <th>BP</th>\n",
              "      <th>Cholesterol</th>\n",
              "      <th>Na_to_K</th>\n",
              "      <th>Drug</th>\n",
              "    </tr>\n",
              "  </thead>\n",
              "  <tbody>\n",
              "    <tr>\n",
              "      <th>0</th>\n",
              "      <td>23</td>\n",
              "      <td>F</td>\n",
              "      <td>HIGH</td>\n",
              "      <td>HIGH</td>\n",
              "      <td>25.355</td>\n",
              "      <td>DrugY</td>\n",
              "    </tr>\n",
              "    <tr>\n",
              "      <th>1</th>\n",
              "      <td>47</td>\n",
              "      <td>M</td>\n",
              "      <td>LOW</td>\n",
              "      <td>HIGH</td>\n",
              "      <td>13.093</td>\n",
              "      <td>drugC</td>\n",
              "    </tr>\n",
              "    <tr>\n",
              "      <th>2</th>\n",
              "      <td>47</td>\n",
              "      <td>M</td>\n",
              "      <td>LOW</td>\n",
              "      <td>HIGH</td>\n",
              "      <td>10.114</td>\n",
              "      <td>drugC</td>\n",
              "    </tr>\n",
              "    <tr>\n",
              "      <th>3</th>\n",
              "      <td>28</td>\n",
              "      <td>F</td>\n",
              "      <td>NORMAL</td>\n",
              "      <td>HIGH</td>\n",
              "      <td>7.798</td>\n",
              "      <td>drugX</td>\n",
              "    </tr>\n",
              "    <tr>\n",
              "      <th>4</th>\n",
              "      <td>61</td>\n",
              "      <td>F</td>\n",
              "      <td>LOW</td>\n",
              "      <td>HIGH</td>\n",
              "      <td>18.043</td>\n",
              "      <td>DrugY</td>\n",
              "    </tr>\n",
              "    <tr>\n",
              "      <th>...</th>\n",
              "      <td>...</td>\n",
              "      <td>...</td>\n",
              "      <td>...</td>\n",
              "      <td>...</td>\n",
              "      <td>...</td>\n",
              "      <td>...</td>\n",
              "    </tr>\n",
              "    <tr>\n",
              "      <th>195</th>\n",
              "      <td>56</td>\n",
              "      <td>F</td>\n",
              "      <td>LOW</td>\n",
              "      <td>HIGH</td>\n",
              "      <td>11.567</td>\n",
              "      <td>drugC</td>\n",
              "    </tr>\n",
              "    <tr>\n",
              "      <th>196</th>\n",
              "      <td>16</td>\n",
              "      <td>M</td>\n",
              "      <td>LOW</td>\n",
              "      <td>HIGH</td>\n",
              "      <td>12.006</td>\n",
              "      <td>drugC</td>\n",
              "    </tr>\n",
              "    <tr>\n",
              "      <th>197</th>\n",
              "      <td>52</td>\n",
              "      <td>M</td>\n",
              "      <td>NORMAL</td>\n",
              "      <td>HIGH</td>\n",
              "      <td>9.894</td>\n",
              "      <td>drugX</td>\n",
              "    </tr>\n",
              "    <tr>\n",
              "      <th>198</th>\n",
              "      <td>23</td>\n",
              "      <td>M</td>\n",
              "      <td>NORMAL</td>\n",
              "      <td>NORMAL</td>\n",
              "      <td>14.020</td>\n",
              "      <td>drugX</td>\n",
              "    </tr>\n",
              "    <tr>\n",
              "      <th>199</th>\n",
              "      <td>40</td>\n",
              "      <td>F</td>\n",
              "      <td>LOW</td>\n",
              "      <td>NORMAL</td>\n",
              "      <td>11.349</td>\n",
              "      <td>drugX</td>\n",
              "    </tr>\n",
              "  </tbody>\n",
              "</table>\n",
              "<p>200 rows × 6 columns</p>\n",
              "</div>\n",
              "      <button class=\"colab-df-convert\" onclick=\"convertToInteractive('df-36048d06-e5d8-4c81-9d0c-0851fee8d22b')\"\n",
              "              title=\"Convert this dataframe to an interactive table.\"\n",
              "              style=\"display:none;\">\n",
              "        \n",
              "  <svg xmlns=\"http://www.w3.org/2000/svg\" height=\"24px\"viewBox=\"0 0 24 24\"\n",
              "       width=\"24px\">\n",
              "    <path d=\"M0 0h24v24H0V0z\" fill=\"none\"/>\n",
              "    <path d=\"M18.56 5.44l.94 2.06.94-2.06 2.06-.94-2.06-.94-.94-2.06-.94 2.06-2.06.94zm-11 1L8.5 8.5l.94-2.06 2.06-.94-2.06-.94L8.5 2.5l-.94 2.06-2.06.94zm10 10l.94 2.06.94-2.06 2.06-.94-2.06-.94-.94-2.06-.94 2.06-2.06.94z\"/><path d=\"M17.41 7.96l-1.37-1.37c-.4-.4-.92-.59-1.43-.59-.52 0-1.04.2-1.43.59L10.3 9.45l-7.72 7.72c-.78.78-.78 2.05 0 2.83L4 21.41c.39.39.9.59 1.41.59.51 0 1.02-.2 1.41-.59l7.78-7.78 2.81-2.81c.8-.78.8-2.07 0-2.86zM5.41 20L4 18.59l7.72-7.72 1.47 1.35L5.41 20z\"/>\n",
              "  </svg>\n",
              "      </button>\n",
              "      \n",
              "  <style>\n",
              "    .colab-df-container {\n",
              "      display:flex;\n",
              "      flex-wrap:wrap;\n",
              "      gap: 12px;\n",
              "    }\n",
              "\n",
              "    .colab-df-convert {\n",
              "      background-color: #E8F0FE;\n",
              "      border: none;\n",
              "      border-radius: 50%;\n",
              "      cursor: pointer;\n",
              "      display: none;\n",
              "      fill: #1967D2;\n",
              "      height: 32px;\n",
              "      padding: 0 0 0 0;\n",
              "      width: 32px;\n",
              "    }\n",
              "\n",
              "    .colab-df-convert:hover {\n",
              "      background-color: #E2EBFA;\n",
              "      box-shadow: 0px 1px 2px rgba(60, 64, 67, 0.3), 0px 1px 3px 1px rgba(60, 64, 67, 0.15);\n",
              "      fill: #174EA6;\n",
              "    }\n",
              "\n",
              "    [theme=dark] .colab-df-convert {\n",
              "      background-color: #3B4455;\n",
              "      fill: #D2E3FC;\n",
              "    }\n",
              "\n",
              "    [theme=dark] .colab-df-convert:hover {\n",
              "      background-color: #434B5C;\n",
              "      box-shadow: 0px 1px 3px 1px rgba(0, 0, 0, 0.15);\n",
              "      filter: drop-shadow(0px 1px 2px rgba(0, 0, 0, 0.3));\n",
              "      fill: #FFFFFF;\n",
              "    }\n",
              "  </style>\n",
              "\n",
              "      <script>\n",
              "        const buttonEl =\n",
              "          document.querySelector('#df-36048d06-e5d8-4c81-9d0c-0851fee8d22b button.colab-df-convert');\n",
              "        buttonEl.style.display =\n",
              "          google.colab.kernel.accessAllowed ? 'block' : 'none';\n",
              "\n",
              "        async function convertToInteractive(key) {\n",
              "          const element = document.querySelector('#df-36048d06-e5d8-4c81-9d0c-0851fee8d22b');\n",
              "          const dataTable =\n",
              "            await google.colab.kernel.invokeFunction('convertToInteractive',\n",
              "                                                     [key], {});\n",
              "          if (!dataTable) return;\n",
              "\n",
              "          const docLinkHtml = 'Like what you see? Visit the ' +\n",
              "            '<a target=\"_blank\" href=https://colab.research.google.com/notebooks/data_table.ipynb>data table notebook</a>'\n",
              "            + ' to learn more about interactive tables.';\n",
              "          element.innerHTML = '';\n",
              "          dataTable['output_type'] = 'display_data';\n",
              "          await google.colab.output.renderOutput(dataTable, element);\n",
              "          const docLink = document.createElement('div');\n",
              "          docLink.innerHTML = docLinkHtml;\n",
              "          element.appendChild(docLink);\n",
              "        }\n",
              "      </script>\n",
              "    </div>\n",
              "  </div>\n",
              "  "
            ]
          },
          "metadata": {},
          "execution_count": 2
        }
      ],
      "source": [
        "tb = pd.read_csv('/content/drug200.csv')\n",
        "tb"
      ]
    },
    {
      "cell_type": "code",
      "source": [
        "tb = tb.drop([\"BP\", \"Cholesterol\", \"Na_to_K\"], axis = 1)"
      ],
      "metadata": {
        "id": "IAcoTP4ZweeJ"
      },
      "execution_count": null,
      "outputs": []
    },
    {
      "cell_type": "code",
      "execution_count": null,
      "metadata": {
        "colab": {
          "base_uri": "https://localhost:8080/"
        },
        "id": "SWGiDr-SS1GG",
        "outputId": "dbe2c393-18b4-494e-edc9-4c9b3360f752"
      },
      "outputs": [
        {
          "output_type": "stream",
          "name": "stdout",
          "text": [
            "[[23, 'F', 'DrugY'], [47, 'M', 'drugC'], [47, 'M', 'drugC'], [28, 'F', 'drugX'], [61, 'F', 'DrugY'], [22, 'F', 'drugX'], [49, 'F', 'DrugY'], [41, 'M', 'drugC'], [60, 'M', 'DrugY'], [43, 'M', 'DrugY'], [47, 'F', 'drugC'], [34, 'F', 'DrugY'], [43, 'M', 'DrugY'], [74, 'F', 'DrugY'], [50, 'F', 'drugX'], [16, 'F', 'DrugY'], [69, 'M', 'drugX'], [43, 'M', 'drugA'], [23, 'M', 'drugC'], [32, 'F', 'DrugY'], [57, 'M', 'DrugY'], [63, 'M', 'DrugY'], [47, 'M', 'DrugY'], [48, 'F', 'DrugY'], [33, 'F', 'DrugY'], [28, 'F', 'DrugY'], [31, 'M', 'DrugY'], [49, 'F', 'drugX'], [39, 'F', 'DrugY'], [45, 'M', 'DrugY'], [18, 'F', 'drugX'], [74, 'M', 'drugB'], [49, 'M', 'drugX'], [65, 'F', 'DrugY'], [53, 'M', 'drugX'], [46, 'M', 'drugX'], [32, 'M', 'drugA'], [39, 'M', 'drugX'], [39, 'F', 'drugX'], [15, 'M', 'drugX'], [73, 'F', 'DrugY'], [58, 'F', 'drugB'], [50, 'M', 'DrugY'], [23, 'M', 'drugX'], [50, 'F', 'drugX'], [66, 'F', 'drugX'], [37, 'F', 'drugA'], [68, 'M', 'drugC'], [23, 'M', 'DrugY'], [28, 'F', 'DrugY'], [58, 'F', 'DrugY'], [67, 'M', 'drugX'], [62, 'M', 'DrugY'], [24, 'F', 'DrugY'], [68, 'F', 'drugB'], [26, 'F', 'drugC'], [65, 'M', 'drugB'], [40, 'M', 'DrugY'], [60, 'M', 'drugX'], [34, 'M', 'DrugY'], [38, 'F', 'DrugY'], [24, 'M', 'drugA'], [67, 'M', 'DrugY'], [45, 'M', 'drugX'], [60, 'F', 'drugB'], [68, 'F', 'DrugY'], [29, 'M', 'drugA'], [17, 'M', 'drugX'], [54, 'M', 'DrugY'], [18, 'F', 'DrugY'], [70, 'M', 'drugB'], [28, 'F', 'DrugY'], [24, 'F', 'drugX'], [41, 'F', 'DrugY'], [31, 'M', 'DrugY'], [26, 'M', 'DrugY'], [36, 'F', 'drugA'], [26, 'F', 'DrugY'], [19, 'F', 'drugA'], [32, 'F', 'drugX'], [60, 'M', 'drugB'], [64, 'M', 'drugX'], [32, 'F', 'drugC'], [38, 'F', 'drugA'], [47, 'F', 'drugC'], [59, 'M', 'drugB'], [51, 'F', 'drugX'], [69, 'M', 'DrugY'], [37, 'F', 'DrugY'], [50, 'F', 'DrugY'], [62, 'M', 'DrugY'], [41, 'M', 'DrugY'], [29, 'F', 'DrugY'], [42, 'F', 'DrugY'], [56, 'M', 'DrugY'], [36, 'M', 'drugX'], [58, 'F', 'DrugY'], [56, 'F', 'DrugY'], [20, 'M', 'DrugY'], [15, 'F', 'DrugY'], [31, 'M', 'drugA'], [45, 'F', 'drugA'], [28, 'F', 'drugC'], [56, 'M', 'drugX'], [22, 'M', 'DrugY'], [37, 'M', 'drugX'], [22, 'M', 'drugX'], [42, 'M', 'DrugY'], [72, 'M', 'drugB'], [23, 'M', 'DrugY'], [50, 'M', 'drugA'], [47, 'F', 'drugX'], [35, 'M', 'drugX'], [65, 'F', 'drugX'], [20, 'F', 'drugX'], [51, 'M', 'DrugY'], [67, 'M', 'drugX'], [40, 'F', 'drugX'], [32, 'F', 'drugA'], [61, 'F', 'DrugY'], [28, 'M', 'DrugY'], [15, 'M', 'DrugY'], [34, 'M', 'DrugY'], [36, 'F', 'DrugY'], [53, 'F', 'drugB'], [19, 'F', 'DrugY'], [66, 'M', 'DrugY'], [35, 'M', 'drugX'], [47, 'M', 'DrugY'], [32, 'F', 'drugX'], [70, 'F', 'DrugY'], [52, 'M', 'DrugY'], [49, 'M', 'drugX'], [24, 'M', 'DrugY'], [42, 'F', 'DrugY'], [74, 'M', 'drugX'], [55, 'F', 'drugB'], [35, 'F', 'drugA'], [51, 'M', 'drugB'], [69, 'F', 'drugX'], [49, 'M', 'drugA'], [64, 'F', 'DrugY'], [60, 'M', 'drugB'], [74, 'M', 'DrugY'], [39, 'M', 'drugA'], [61, 'M', 'drugX'], [37, 'F', 'drugX'], [26, 'F', 'drugA'], [61, 'F', 'drugX'], [22, 'M', 'drugC'], [49, 'M', 'drugA'], [68, 'M', 'drugB'], [55, 'M', 'drugX'], [72, 'F', 'drugX'], [37, 'M', 'DrugY'], [49, 'M', 'drugC'], [31, 'M', 'drugA'], [53, 'M', 'DrugY'], [59, 'F', 'drugC'], [34, 'F', 'drugX'], [30, 'F', 'drugX'], [57, 'F', 'drugB'], [43, 'M', 'drugX'], [21, 'F', 'DrugY'], [16, 'M', 'DrugY'], [38, 'M', 'DrugY'], [58, 'F', 'DrugY'], [57, 'F', 'drugX'], [51, 'F', 'DrugY'], [20, 'F', 'drugA'], [28, 'F', 'drugX'], [45, 'M', 'drugX'], [39, 'F', 'DrugY'], [41, 'F', 'DrugY'], [42, 'M', 'drugA'], [73, 'F', 'DrugY'], [48, 'M', 'drugA'], [25, 'M', 'DrugY'], [39, 'M', 'DrugY'], [67, 'F', 'DrugY'], [22, 'F', 'DrugY'], [59, 'F', 'drugX'], [20, 'F', 'drugX'], [36, 'F', 'DrugY'], [18, 'F', 'DrugY'], [57, 'F', 'DrugY'], [70, 'M', 'drugB'], [47, 'M', 'drugA'], [65, 'M', 'DrugY'], [64, 'M', 'DrugY'], [58, 'M', 'DrugY'], [23, 'M', 'drugA'], [72, 'M', 'DrugY'], [72, 'M', 'drugC'], [46, 'F', 'DrugY'], [56, 'F', 'drugC'], [16, 'M', 'drugC'], [52, 'M', 'drugX'], [23, 'M', 'drugX'], [40, 'F', 'drugX']]\n"
          ]
        }
      ],
      "source": [
        "data = tb.values.tolist()\n",
        "\n",
        "# Printing dataframe ke bentuk list\n",
        "print(data)\n"
      ]
    },
    {
      "cell_type": "code",
      "source": [
        "print(data[1])\n",
        "print(data[0])"
      ],
      "metadata": {
        "colab": {
          "base_uri": "https://localhost:8080/"
        },
        "id": "jfFO1iNg5px1",
        "outputId": "4ad14d1d-1a68-4a99-c7b4-aa29e6e9fea7"
      },
      "execution_count": null,
      "outputs": [
        {
          "output_type": "stream",
          "name": "stdout",
          "text": [
            "[47, 'M', 'drugC']\n",
            "[23, 'F', 'DrugY']\n"
          ]
        }
      ]
    },
    {
      "cell_type": "code",
      "source": [
        "# implementasi stack menggunakan linked list\n",
        "# buat node class\n",
        "\n",
        "class Node:\n",
        "\tdef __init__(self, value):\n",
        "\t\tself.value = value\n",
        "\t\tself.next = None\n",
        "\n",
        "\n",
        "class Stack:\n",
        "\n",
        "\t# inisialisasi stacknya\n",
        "\t# easier for handling edge cases.\n",
        "\tdef __init__(self):\n",
        "\t\tself.head = Node(\"head\")\n",
        "\t\tself.size = 0\n",
        "\n",
        "\t# string ini untuk mengimplementasikan stacknya\n",
        "\tdef __str__(self):\n",
        "\t\tcur = self.head.next\n",
        "\t\tout = \"\"\n",
        "\t\twhile cur:\n",
        "\t\t\tout += str(cur.value) + \"->\"\n",
        "\t\t\tcur = cur.next\n",
        "\t\treturn out[:-3]\n",
        "\n",
        "\t# ini untuk melihat ukuran si stack\n",
        "\tdef getSize(self):\n",
        "\t\treturn self.size\n",
        "\n",
        "\t# mengecek apakah stack kosong atau tidak\n",
        "\tdef isEmpty(self):\n",
        "\t\treturn self.size == 0\n",
        "\n",
        "\t# melihat item paling teratas dalam stack\n",
        "\tdef peek(self):\n",
        "\n",
        "\t\t# untuk mengecek apakah kita mengembalikan stack yg kosong\n",
        "\t\tif self.isEmpty():\n",
        "\t\t\traise Exception(\"Peeking from an empty stack\")\n",
        "\t\treturn self.head.next.value\n",
        "\n",
        "\t# menambah nilai dalam stack\n",
        "\tdef push(self, value):\n",
        "\t\tnode = Node(value)\n",
        "\t\tnode.next = self.head.next\n",
        "\t\tself.head.next = node\n",
        "\t\tself.size += 1\n",
        "\n",
        "\t# menghapus nilai dalam stacknya dan mengembalikannya\n",
        "\tdef pop(self):\n",
        "\t\tif self.isEmpty():\n",
        "\t\t\traise Exception(\"Popping from an empty stack\")\n",
        "\t\tremove = self.head.next\n",
        "\t\tself.head.next = self.head.next.next\n",
        "\t\tself.size -= 1\n",
        "\t\treturn remove.value\n",
        "\n",
        "\n",
        "# menjalankan codenya, driver code\n",
        "if __name__ == \"__main__\":\n",
        "\tstack = Stack()\n",
        "\tfor i in data:\n",
        "\t\tstack.push(i)\n",
        "\tprint(f\"Stack: {stack}\")\n",
        "\n",
        "\n",
        "\tfor _ in range(0, 10):\n",
        "\t\tremove = stack.pop()\n",
        "\t\tprint(f\"Pop: {remove}\")\n",
        "\tprint(f\"Stack: {stack}\")\n",
        "\n",
        "\tif i in data : #liat top\n",
        "\t\ttop = stack.peek()\n",
        "\t\tprint(top)\n",
        "\n",
        "print(f\"Stack : {stack, 20}\")\n",
        "\n"
      ],
      "metadata": {
        "colab": {
          "base_uri": "https://localhost:8080/"
        },
        "id": "PEgzITxTspMx",
        "outputId": "98fcecd5-0519-4d3c-f45e-d10e83124fc5"
      },
      "execution_count": null,
      "outputs": [
        {
          "output_type": "stream",
          "name": "stdout",
          "text": [
            "Stack: [40, 'F', 'drugX']->[23, 'M', 'drugX']->[52, 'M', 'drugX']->[16, 'M', 'drugC']->[56, 'F', 'drugC']->[46, 'F', 'DrugY']->[72, 'M', 'drugC']->[72, 'M', 'DrugY']->[23, 'M', 'drugA']->[58, 'M', 'DrugY']->[64, 'M', 'DrugY']->[65, 'M', 'DrugY']->[47, 'M', 'drugA']->[70, 'M', 'drugB']->[57, 'F', 'DrugY']->[18, 'F', 'DrugY']->[36, 'F', 'DrugY']->[20, 'F', 'drugX']->[59, 'F', 'drugX']->[22, 'F', 'DrugY']->[67, 'F', 'DrugY']->[39, 'M', 'DrugY']->[25, 'M', 'DrugY']->[48, 'M', 'drugA']->[73, 'F', 'DrugY']->[42, 'M', 'drugA']->[41, 'F', 'DrugY']->[39, 'F', 'DrugY']->[45, 'M', 'drugX']->[28, 'F', 'drugX']->[20, 'F', 'drugA']->[51, 'F', 'DrugY']->[57, 'F', 'drugX']->[58, 'F', 'DrugY']->[38, 'M', 'DrugY']->[16, 'M', 'DrugY']->[21, 'F', 'DrugY']->[43, 'M', 'drugX']->[57, 'F', 'drugB']->[30, 'F', 'drugX']->[34, 'F', 'drugX']->[59, 'F', 'drugC']->[53, 'M', 'DrugY']->[31, 'M', 'drugA']->[49, 'M', 'drugC']->[37, 'M', 'DrugY']->[72, 'F', 'drugX']->[55, 'M', 'drugX']->[68, 'M', 'drugB']->[49, 'M', 'drugA']->[22, 'M', 'drugC']->[61, 'F', 'drugX']->[26, 'F', 'drugA']->[37, 'F', 'drugX']->[61, 'M', 'drugX']->[39, 'M', 'drugA']->[74, 'M', 'DrugY']->[60, 'M', 'drugB']->[64, 'F', 'DrugY']->[49, 'M', 'drugA']->[69, 'F', 'drugX']->[51, 'M', 'drugB']->[35, 'F', 'drugA']->[55, 'F', 'drugB']->[74, 'M', 'drugX']->[42, 'F', 'DrugY']->[24, 'M', 'DrugY']->[49, 'M', 'drugX']->[52, 'M', 'DrugY']->[70, 'F', 'DrugY']->[32, 'F', 'drugX']->[47, 'M', 'DrugY']->[35, 'M', 'drugX']->[66, 'M', 'DrugY']->[19, 'F', 'DrugY']->[53, 'F', 'drugB']->[36, 'F', 'DrugY']->[34, 'M', 'DrugY']->[15, 'M', 'DrugY']->[28, 'M', 'DrugY']->[61, 'F', 'DrugY']->[32, 'F', 'drugA']->[40, 'F', 'drugX']->[67, 'M', 'drugX']->[51, 'M', 'DrugY']->[20, 'F', 'drugX']->[65, 'F', 'drugX']->[35, 'M', 'drugX']->[47, 'F', 'drugX']->[50, 'M', 'drugA']->[23, 'M', 'DrugY']->[72, 'M', 'drugB']->[42, 'M', 'DrugY']->[22, 'M', 'drugX']->[37, 'M', 'drugX']->[22, 'M', 'DrugY']->[56, 'M', 'drugX']->[28, 'F', 'drugC']->[45, 'F', 'drugA']->[31, 'M', 'drugA']->[15, 'F', 'DrugY']->[20, 'M', 'DrugY']->[56, 'F', 'DrugY']->[58, 'F', 'DrugY']->[36, 'M', 'drugX']->[56, 'M', 'DrugY']->[42, 'F', 'DrugY']->[29, 'F', 'DrugY']->[41, 'M', 'DrugY']->[62, 'M', 'DrugY']->[50, 'F', 'DrugY']->[37, 'F', 'DrugY']->[69, 'M', 'DrugY']->[51, 'F', 'drugX']->[59, 'M', 'drugB']->[47, 'F', 'drugC']->[38, 'F', 'drugA']->[32, 'F', 'drugC']->[64, 'M', 'drugX']->[60, 'M', 'drugB']->[32, 'F', 'drugX']->[19, 'F', 'drugA']->[26, 'F', 'DrugY']->[36, 'F', 'drugA']->[26, 'M', 'DrugY']->[31, 'M', 'DrugY']->[41, 'F', 'DrugY']->[24, 'F', 'drugX']->[28, 'F', 'DrugY']->[70, 'M', 'drugB']->[18, 'F', 'DrugY']->[54, 'M', 'DrugY']->[17, 'M', 'drugX']->[29, 'M', 'drugA']->[68, 'F', 'DrugY']->[60, 'F', 'drugB']->[45, 'M', 'drugX']->[67, 'M', 'DrugY']->[24, 'M', 'drugA']->[38, 'F', 'DrugY']->[34, 'M', 'DrugY']->[60, 'M', 'drugX']->[40, 'M', 'DrugY']->[65, 'M', 'drugB']->[26, 'F', 'drugC']->[68, 'F', 'drugB']->[24, 'F', 'DrugY']->[62, 'M', 'DrugY']->[67, 'M', 'drugX']->[58, 'F', 'DrugY']->[28, 'F', 'DrugY']->[23, 'M', 'DrugY']->[68, 'M', 'drugC']->[37, 'F', 'drugA']->[66, 'F', 'drugX']->[50, 'F', 'drugX']->[23, 'M', 'drugX']->[50, 'M', 'DrugY']->[58, 'F', 'drugB']->[73, 'F', 'DrugY']->[15, 'M', 'drugX']->[39, 'F', 'drugX']->[39, 'M', 'drugX']->[32, 'M', 'drugA']->[46, 'M', 'drugX']->[53, 'M', 'drugX']->[65, 'F', 'DrugY']->[49, 'M', 'drugX']->[74, 'M', 'drugB']->[18, 'F', 'drugX']->[45, 'M', 'DrugY']->[39, 'F', 'DrugY']->[49, 'F', 'drugX']->[31, 'M', 'DrugY']->[28, 'F', 'DrugY']->[33, 'F', 'DrugY']->[48, 'F', 'DrugY']->[47, 'M', 'DrugY']->[63, 'M', 'DrugY']->[57, 'M', 'DrugY']->[32, 'F', 'DrugY']->[23, 'M', 'drugC']->[43, 'M', 'drugA']->[69, 'M', 'drugX']->[16, 'F', 'DrugY']->[50, 'F', 'drugX']->[74, 'F', 'DrugY']->[43, 'M', 'DrugY']->[34, 'F', 'DrugY']->[47, 'F', 'drugC']->[43, 'M', 'DrugY']->[60, 'M', 'DrugY']->[41, 'M', 'drugC']->[49, 'F', 'DrugY']->[22, 'F', 'drugX']->[61, 'F', 'DrugY']->[28, 'F', 'drugX']->[47, 'M', 'drugC']->[47, 'M', 'drugC']->[23, 'F', 'DrugY'\n",
            "Pop: [40, 'F', 'drugX']\n",
            "Pop: [23, 'M', 'drugX']\n",
            "Pop: [52, 'M', 'drugX']\n",
            "Pop: [16, 'M', 'drugC']\n",
            "Pop: [56, 'F', 'drugC']\n",
            "Pop: [46, 'F', 'DrugY']\n",
            "Pop: [72, 'M', 'drugC']\n",
            "Pop: [72, 'M', 'DrugY']\n",
            "Pop: [23, 'M', 'drugA']\n",
            "Pop: [58, 'M', 'DrugY']\n",
            "Stack: [64, 'M', 'DrugY']->[65, 'M', 'DrugY']->[47, 'M', 'drugA']->[70, 'M', 'drugB']->[57, 'F', 'DrugY']->[18, 'F', 'DrugY']->[36, 'F', 'DrugY']->[20, 'F', 'drugX']->[59, 'F', 'drugX']->[22, 'F', 'DrugY']->[67, 'F', 'DrugY']->[39, 'M', 'DrugY']->[25, 'M', 'DrugY']->[48, 'M', 'drugA']->[73, 'F', 'DrugY']->[42, 'M', 'drugA']->[41, 'F', 'DrugY']->[39, 'F', 'DrugY']->[45, 'M', 'drugX']->[28, 'F', 'drugX']->[20, 'F', 'drugA']->[51, 'F', 'DrugY']->[57, 'F', 'drugX']->[58, 'F', 'DrugY']->[38, 'M', 'DrugY']->[16, 'M', 'DrugY']->[21, 'F', 'DrugY']->[43, 'M', 'drugX']->[57, 'F', 'drugB']->[30, 'F', 'drugX']->[34, 'F', 'drugX']->[59, 'F', 'drugC']->[53, 'M', 'DrugY']->[31, 'M', 'drugA']->[49, 'M', 'drugC']->[37, 'M', 'DrugY']->[72, 'F', 'drugX']->[55, 'M', 'drugX']->[68, 'M', 'drugB']->[49, 'M', 'drugA']->[22, 'M', 'drugC']->[61, 'F', 'drugX']->[26, 'F', 'drugA']->[37, 'F', 'drugX']->[61, 'M', 'drugX']->[39, 'M', 'drugA']->[74, 'M', 'DrugY']->[60, 'M', 'drugB']->[64, 'F', 'DrugY']->[49, 'M', 'drugA']->[69, 'F', 'drugX']->[51, 'M', 'drugB']->[35, 'F', 'drugA']->[55, 'F', 'drugB']->[74, 'M', 'drugX']->[42, 'F', 'DrugY']->[24, 'M', 'DrugY']->[49, 'M', 'drugX']->[52, 'M', 'DrugY']->[70, 'F', 'DrugY']->[32, 'F', 'drugX']->[47, 'M', 'DrugY']->[35, 'M', 'drugX']->[66, 'M', 'DrugY']->[19, 'F', 'DrugY']->[53, 'F', 'drugB']->[36, 'F', 'DrugY']->[34, 'M', 'DrugY']->[15, 'M', 'DrugY']->[28, 'M', 'DrugY']->[61, 'F', 'DrugY']->[32, 'F', 'drugA']->[40, 'F', 'drugX']->[67, 'M', 'drugX']->[51, 'M', 'DrugY']->[20, 'F', 'drugX']->[65, 'F', 'drugX']->[35, 'M', 'drugX']->[47, 'F', 'drugX']->[50, 'M', 'drugA']->[23, 'M', 'DrugY']->[72, 'M', 'drugB']->[42, 'M', 'DrugY']->[22, 'M', 'drugX']->[37, 'M', 'drugX']->[22, 'M', 'DrugY']->[56, 'M', 'drugX']->[28, 'F', 'drugC']->[45, 'F', 'drugA']->[31, 'M', 'drugA']->[15, 'F', 'DrugY']->[20, 'M', 'DrugY']->[56, 'F', 'DrugY']->[58, 'F', 'DrugY']->[36, 'M', 'drugX']->[56, 'M', 'DrugY']->[42, 'F', 'DrugY']->[29, 'F', 'DrugY']->[41, 'M', 'DrugY']->[62, 'M', 'DrugY']->[50, 'F', 'DrugY']->[37, 'F', 'DrugY']->[69, 'M', 'DrugY']->[51, 'F', 'drugX']->[59, 'M', 'drugB']->[47, 'F', 'drugC']->[38, 'F', 'drugA']->[32, 'F', 'drugC']->[64, 'M', 'drugX']->[60, 'M', 'drugB']->[32, 'F', 'drugX']->[19, 'F', 'drugA']->[26, 'F', 'DrugY']->[36, 'F', 'drugA']->[26, 'M', 'DrugY']->[31, 'M', 'DrugY']->[41, 'F', 'DrugY']->[24, 'F', 'drugX']->[28, 'F', 'DrugY']->[70, 'M', 'drugB']->[18, 'F', 'DrugY']->[54, 'M', 'DrugY']->[17, 'M', 'drugX']->[29, 'M', 'drugA']->[68, 'F', 'DrugY']->[60, 'F', 'drugB']->[45, 'M', 'drugX']->[67, 'M', 'DrugY']->[24, 'M', 'drugA']->[38, 'F', 'DrugY']->[34, 'M', 'DrugY']->[60, 'M', 'drugX']->[40, 'M', 'DrugY']->[65, 'M', 'drugB']->[26, 'F', 'drugC']->[68, 'F', 'drugB']->[24, 'F', 'DrugY']->[62, 'M', 'DrugY']->[67, 'M', 'drugX']->[58, 'F', 'DrugY']->[28, 'F', 'DrugY']->[23, 'M', 'DrugY']->[68, 'M', 'drugC']->[37, 'F', 'drugA']->[66, 'F', 'drugX']->[50, 'F', 'drugX']->[23, 'M', 'drugX']->[50, 'M', 'DrugY']->[58, 'F', 'drugB']->[73, 'F', 'DrugY']->[15, 'M', 'drugX']->[39, 'F', 'drugX']->[39, 'M', 'drugX']->[32, 'M', 'drugA']->[46, 'M', 'drugX']->[53, 'M', 'drugX']->[65, 'F', 'DrugY']->[49, 'M', 'drugX']->[74, 'M', 'drugB']->[18, 'F', 'drugX']->[45, 'M', 'DrugY']->[39, 'F', 'DrugY']->[49, 'F', 'drugX']->[31, 'M', 'DrugY']->[28, 'F', 'DrugY']->[33, 'F', 'DrugY']->[48, 'F', 'DrugY']->[47, 'M', 'DrugY']->[63, 'M', 'DrugY']->[57, 'M', 'DrugY']->[32, 'F', 'DrugY']->[23, 'M', 'drugC']->[43, 'M', 'drugA']->[69, 'M', 'drugX']->[16, 'F', 'DrugY']->[50, 'F', 'drugX']->[74, 'F', 'DrugY']->[43, 'M', 'DrugY']->[34, 'F', 'DrugY']->[47, 'F', 'drugC']->[43, 'M', 'DrugY']->[60, 'M', 'DrugY']->[41, 'M', 'drugC']->[49, 'F', 'DrugY']->[22, 'F', 'drugX']->[61, 'F', 'DrugY']->[28, 'F', 'drugX']->[47, 'M', 'drugC']->[47, 'M', 'drugC']->[23, 'F', 'DrugY'\n",
            "[64, 'M', 'DrugY']\n",
            "Stack : (<__main__.Stack object at 0x7fa58feff8e0>, 20)\n"
          ]
        }
      ]
    },
    {
      "cell_type": "code",
      "source": [
        "\tbaru = []\n",
        "\tbaru.append(34)\n",
        "\tbaru.append('F')\n",
        "\tbaru.append('drugA')\n",
        "\tprint(baru)\n",
        "\tfor _ in range(-1) :\n",
        "\t\tstack.push(baru)\n",
        "\tprint(f\"Stack: {baru}->{stack}\")"
      ],
      "metadata": {
        "colab": {
          "base_uri": "https://localhost:8080/"
        },
        "id": "uKexNMKXXE1i",
        "outputId": "7deece54-1531-49f1-f858-f72d1b521cd0"
      },
      "execution_count": null,
      "outputs": [
        {
          "output_type": "stream",
          "name": "stdout",
          "text": [
            "[34, 'F', 'drugA']\n",
            "Stack: [34, 'F', 'drugA']->[64, 'M', 'DrugY']->[65, 'M', 'DrugY']->[47, 'M', 'drugA']->[70, 'M', 'drugB']->[57, 'F', 'DrugY']->[18, 'F', 'DrugY']->[36, 'F', 'DrugY']->[20, 'F', 'drugX']->[59, 'F', 'drugX']->[22, 'F', 'DrugY']->[67, 'F', 'DrugY']->[39, 'M', 'DrugY']->[25, 'M', 'DrugY']->[48, 'M', 'drugA']->[73, 'F', 'DrugY']->[42, 'M', 'drugA']->[41, 'F', 'DrugY']->[39, 'F', 'DrugY']->[45, 'M', 'drugX']->[28, 'F', 'drugX']->[20, 'F', 'drugA']->[51, 'F', 'DrugY']->[57, 'F', 'drugX']->[58, 'F', 'DrugY']->[38, 'M', 'DrugY']->[16, 'M', 'DrugY']->[21, 'F', 'DrugY']->[43, 'M', 'drugX']->[57, 'F', 'drugB']->[30, 'F', 'drugX']->[34, 'F', 'drugX']->[59, 'F', 'drugC']->[53, 'M', 'DrugY']->[31, 'M', 'drugA']->[49, 'M', 'drugC']->[37, 'M', 'DrugY']->[72, 'F', 'drugX']->[55, 'M', 'drugX']->[68, 'M', 'drugB']->[49, 'M', 'drugA']->[22, 'M', 'drugC']->[61, 'F', 'drugX']->[26, 'F', 'drugA']->[37, 'F', 'drugX']->[61, 'M', 'drugX']->[39, 'M', 'drugA']->[74, 'M', 'DrugY']->[60, 'M', 'drugB']->[64, 'F', 'DrugY']->[49, 'M', 'drugA']->[69, 'F', 'drugX']->[51, 'M', 'drugB']->[35, 'F', 'drugA']->[55, 'F', 'drugB']->[74, 'M', 'drugX']->[42, 'F', 'DrugY']->[24, 'M', 'DrugY']->[49, 'M', 'drugX']->[52, 'M', 'DrugY']->[70, 'F', 'DrugY']->[32, 'F', 'drugX']->[47, 'M', 'DrugY']->[35, 'M', 'drugX']->[66, 'M', 'DrugY']->[19, 'F', 'DrugY']->[53, 'F', 'drugB']->[36, 'F', 'DrugY']->[34, 'M', 'DrugY']->[15, 'M', 'DrugY']->[28, 'M', 'DrugY']->[61, 'F', 'DrugY']->[32, 'F', 'drugA']->[40, 'F', 'drugX']->[67, 'M', 'drugX']->[51, 'M', 'DrugY']->[20, 'F', 'drugX']->[65, 'F', 'drugX']->[35, 'M', 'drugX']->[47, 'F', 'drugX']->[50, 'M', 'drugA']->[23, 'M', 'DrugY']->[72, 'M', 'drugB']->[42, 'M', 'DrugY']->[22, 'M', 'drugX']->[37, 'M', 'drugX']->[22, 'M', 'DrugY']->[56, 'M', 'drugX']->[28, 'F', 'drugC']->[45, 'F', 'drugA']->[31, 'M', 'drugA']->[15, 'F', 'DrugY']->[20, 'M', 'DrugY']->[56, 'F', 'DrugY']->[58, 'F', 'DrugY']->[36, 'M', 'drugX']->[56, 'M', 'DrugY']->[42, 'F', 'DrugY']->[29, 'F', 'DrugY']->[41, 'M', 'DrugY']->[62, 'M', 'DrugY']->[50, 'F', 'DrugY']->[37, 'F', 'DrugY']->[69, 'M', 'DrugY']->[51, 'F', 'drugX']->[59, 'M', 'drugB']->[47, 'F', 'drugC']->[38, 'F', 'drugA']->[32, 'F', 'drugC']->[64, 'M', 'drugX']->[60, 'M', 'drugB']->[32, 'F', 'drugX']->[19, 'F', 'drugA']->[26, 'F', 'DrugY']->[36, 'F', 'drugA']->[26, 'M', 'DrugY']->[31, 'M', 'DrugY']->[41, 'F', 'DrugY']->[24, 'F', 'drugX']->[28, 'F', 'DrugY']->[70, 'M', 'drugB']->[18, 'F', 'DrugY']->[54, 'M', 'DrugY']->[17, 'M', 'drugX']->[29, 'M', 'drugA']->[68, 'F', 'DrugY']->[60, 'F', 'drugB']->[45, 'M', 'drugX']->[67, 'M', 'DrugY']->[24, 'M', 'drugA']->[38, 'F', 'DrugY']->[34, 'M', 'DrugY']->[60, 'M', 'drugX']->[40, 'M', 'DrugY']->[65, 'M', 'drugB']->[26, 'F', 'drugC']->[68, 'F', 'drugB']->[24, 'F', 'DrugY']->[62, 'M', 'DrugY']->[67, 'M', 'drugX']->[58, 'F', 'DrugY']->[28, 'F', 'DrugY']->[23, 'M', 'DrugY']->[68, 'M', 'drugC']->[37, 'F', 'drugA']->[66, 'F', 'drugX']->[50, 'F', 'drugX']->[23, 'M', 'drugX']->[50, 'M', 'DrugY']->[58, 'F', 'drugB']->[73, 'F', 'DrugY']->[15, 'M', 'drugX']->[39, 'F', 'drugX']->[39, 'M', 'drugX']->[32, 'M', 'drugA']->[46, 'M', 'drugX']->[53, 'M', 'drugX']->[65, 'F', 'DrugY']->[49, 'M', 'drugX']->[74, 'M', 'drugB']->[18, 'F', 'drugX']->[45, 'M', 'DrugY']->[39, 'F', 'DrugY']->[49, 'F', 'drugX']->[31, 'M', 'DrugY']->[28, 'F', 'DrugY']->[33, 'F', 'DrugY']->[48, 'F', 'DrugY']->[47, 'M', 'DrugY']->[63, 'M', 'DrugY']->[57, 'M', 'DrugY']->[32, 'F', 'DrugY']->[23, 'M', 'drugC']->[43, 'M', 'drugA']->[69, 'M', 'drugX']->[16, 'F', 'DrugY']->[50, 'F', 'drugX']->[74, 'F', 'DrugY']->[43, 'M', 'DrugY']->[34, 'F', 'DrugY']->[47, 'F', 'drugC']->[43, 'M', 'DrugY']->[60, 'M', 'DrugY']->[41, 'M', 'drugC']->[49, 'F', 'DrugY']->[22, 'F', 'drugX']->[61, 'F', 'DrugY']->[28, 'F', 'drugX']->[47, 'M', 'drugC']->[47, 'M', 'drugC']->[23, 'F', 'DrugY'\n"
          ]
        }
      ]
    }
  ],
  "metadata": {
    "colab": {
      "provenance": []
    },
    "kernelspec": {
      "display_name": "Python 3",
      "name": "python3"
    },
    "language_info": {
      "name": "python"
    }
  },
  "nbformat": 4,
  "nbformat_minor": 0
}